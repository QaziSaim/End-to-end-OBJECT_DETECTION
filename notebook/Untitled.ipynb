{
 "cells": [
  {
   "cell_type": "code",
   "execution_count": null,
   "id": "cebc8295-640b-4017-b557-0964cde8cb67",
   "metadata": {},
   "outputs": [
    {
     "name": "stdout",
     "output_type": "stream",
     "text": [
      "Looking in indexes: https://download.pytorch.org/whl/cu118\n",
      "Requirement already satisfied: torch in e:\\projects\\end-to-end-object_detection\\venv\\lib\\site-packages (1.13.1)\n",
      "Requirement already satisfied: torchvision in e:\\projects\\end-to-end-object_detection\\venv\\lib\\site-packages (0.14.1)\n",
      "Collecting torchaudio\n",
      "  Downloading https://download.pytorch.org/whl/torchaudio-0.9.1-cp37-cp37m-win_amd64.whl (216 kB)\n",
      "     ------------------------------------ 216.2/216.2 kB 940.6 kB/s eta 0:00:00\n",
      "Requirement already satisfied: typing-extensions in e:\\projects\\end-to-end-object_detection\\venv\\lib\\site-packages (from torch) (4.7.1)\n",
      "Requirement already satisfied: requests in e:\\projects\\end-to-end-object_detection\\venv\\lib\\site-packages (from torchvision) (2.31.0)\n",
      "Requirement already satisfied: pillow!=8.3.*,>=5.3.0 in e:\\projects\\end-to-end-object_detection\\venv\\lib\\site-packages (from torchvision) (9.5.0)\n",
      "Requirement already satisfied: numpy in e:\\projects\\end-to-end-object_detection\\venv\\lib\\site-packages (from torchvision) (1.21.6)\n",
      "  Downloading https://download.pytorch.org/whl/torchaudio-0.9.0-cp37-cp37m-win_amd64.whl (215 kB)\n",
      "     -------------------------------------- 215.5/215.5 kB 2.2 MB/s eta 0:00:00\n",
      "  Downloading https://download.pytorch.org/whl/torchaudio-0.8.1-cp37-none-win_amd64.whl (109 kB)\n",
      "     -------------------------------------- 109.3/109.3 kB 1.6 MB/s eta 0:00:00\n",
      "  Downloading https://download.pytorch.org/whl/torchaudio-0.8.0-cp37-none-win_amd64.whl (109 kB)\n",
      "     -------------------------------------- 109.0/109.0 kB 2.1 MB/s eta 0:00:00\n",
      "  Downloading https://download.pytorch.org/whl/torchaudio-0.7.2-cp37-none-win_amd64.whl (103 kB)\n",
      "     -------------------------------------- 104.0/104.0 kB 2.0 MB/s eta 0:00:00\n",
      "  Downloading https://download.pytorch.org/whl/torchaudio-0.7.1-cp37-none-win_amd64.whl (104 kB)\n",
      "     -------------------------------------- 104.1/104.1 kB 3.0 MB/s eta 0:00:00\n",
      "  Downloading https://download.pytorch.org/whl/torchaudio-0.7.0-cp37-none-win_amd64.whl (103 kB)\n",
      "     ------------------------------------ 103.8/103.8 kB 299.8 kB/s eta 0:00:00\n",
      "  Downloading https://download.pytorch.org/whl/torchaudio-0.6.0-cp37-none-win_amd64.whl (85 kB)\n",
      "     -------------------------------------- 85.5/85.5 kB 601.7 kB/s eta 0:00:00\n",
      "INFO: pip is looking at multiple versions of torchvision to determine which version is compatible with other requirements. This could take a while.\n",
      "Collecting torchvision\n",
      "  Downloading https://download.pytorch.org/whl/torchvision-0.2.0-py2.py3-none-any.whl (48 kB)\n",
      "     ---------------------------------------- 48.8/48.8 kB ? eta 0:00:00\n",
      "Requirement already satisfied: six in e:\\projects\\end-to-end-object_detection\\venv\\lib\\site-packages (from torchvision) (1.17.0)\n",
      "  Downloading https://download.pytorch.org/whl/torchvision-0.1.6-py3-none-any.whl (16 kB)\n",
      "INFO: pip is looking at multiple versions of torch to determine which version is compatible with other requirements. This could take a while.\n",
      "\n",
      "The conflict is caused by:\n",
      "    The user requested torch\n",
      "    torchaudio 0.9.1 depends on torch==1.9.1\n",
      "    The user requested torch\n",
      "    torchaudio 0.9.0 depends on torch==1.9.0\n",
      "    The user requested torch\n",
      "    torchaudio 0.8.1 depends on torch==1.8.1\n",
      "    The user requested torch\n",
      "    torchaudio 0.8.0 depends on torch==1.8.0\n",
      "    The user requested torch\n",
      "    torchaudio 0.7.2 depends on torch==1.7.1\n",
      "    The user requested torch\n",
      "    torchaudio 0.7.1 depends on torch==1.7.1\n",
      "    The user requested torch\n",
      "    torchaudio 0.7.0 depends on torch==1.7.0\n",
      "    The user requested torch\n",
      "    torchaudio 0.6.0 depends on torch==1.6.0\n",
      "\n",
      "To fix this you could try to:\n",
      "1. loosen the range of package versions you've specified\n",
      "2. remove package versions to allow pip attempt to solve the dependency conflict\n",
      "\n"
     ]
    },
    {
     "name": "stderr",
     "output_type": "stream",
     "text": [
      "ERROR: Cannot install torch, torchaudio==0.6.0, torchaudio==0.7.0, torchaudio==0.7.1, torchaudio==0.7.2, torchaudio==0.8.0, torchaudio==0.8.1, torchaudio==0.9.0 and torchaudio==0.9.1 because these package versions have conflicting dependencies.\n",
      "ERROR: ResolutionImpossible: for help visit https://pip.pypa.io/en/latest/topics/dependency-resolution/#dealing-with-dependency-conflicts\n",
      "WARNING: There was an error checking the latest version of pip.\n"
     ]
    },
    {
     "name": "stdout",
     "output_type": "stream",
     "text": [
      "Requirement already satisfied: opencv-python in e:\\projects\\end-to-end-object_detection\\venv\\lib\\site-packages (4.10.0.84)\n",
      "Requirement already satisfied: matplotlib in e:\\projects\\end-to-end-object_detection\\venv\\lib\\site-packages (3.5.3)\n",
      "Requirement already satisfied: numpy>=1.17.0 in e:\\projects\\end-to-end-object_detection\\venv\\lib\\site-packages (from opencv-python) (1.21.6)\n",
      "Requirement already satisfied: pyparsing>=2.2.1 in e:\\projects\\end-to-end-object_detection\\venv\\lib\\site-packages (from matplotlib) (3.1.4)\n",
      "Requirement already satisfied: cycler>=0.10 in e:\\projects\\end-to-end-object_detection\\venv\\lib\\site-packages (from matplotlib) (0.11.0)\n",
      "Requirement already satisfied: fonttools>=4.22.0 in e:\\projects\\end-to-end-object_detection\\venv\\lib\\site-packages (from matplotlib) (4.38.0)\n",
      "Requirement already satisfied: packaging>=20.0 in e:\\projects\\end-to-end-object_detection\\venv\\lib\\site-packages (from matplotlib) (24.0)\n",
      "Requirement already satisfied: pillow>=6.2.0 in e:\\projects\\end-to-end-object_detection\\venv\\lib\\site-packages (from matplotlib) (9.5.0)\n",
      "Requirement already satisfied: python-dateutil>=2.7 in e:\\projects\\end-to-end-object_detection\\venv\\lib\\site-packages (from matplotlib) (2.9.0.post0)\n",
      "Requirement already satisfied: kiwisolver>=1.0.1 in e:\\projects\\end-to-end-object_detection\\venv\\lib\\site-packages (from matplotlib) (1.4.5)\n",
      "Requirement already satisfied: typing-extensions in e:\\projects\\end-to-end-object_detection\\venv\\lib\\site-packages (from kiwisolver>=1.0.1->matplotlib) (4.7.1)\n",
      "Requirement already satisfied: six>=1.5 in e:\\projects\\end-to-end-object_detection\\venv\\lib\\site-packages (from python-dateutil>=2.7->matplotlib) (1.17.0)\n"
     ]
    }
   ],
   "source": [
    "# Install PyTorch with GPU support\n",
    "!pip install torch torchvision torchaudio --index-url https://download.pytorch.org/whl/cu118\n",
    "\n",
    "# Install additional dependencies\n",
    "!pip install opencv-python matplotlib\n",
    "\n",
    "# Clone YOLOv5 repository\n",
    "!git clone https://github.com/ultralytics/yolov5.git\n",
    "\n",
    "# Navigate to the YOLOv5 directory and install requirements\n",
    "%cd yolov5\n",
    "!pip install -r requirements.txt\n"
   ]
  },
  {
   "cell_type": "code",
   "execution_count": null,
   "id": "3b75d6d9-edc8-4880-b0d3-ca8f14a4f989",
   "metadata": {},
   "outputs": [],
   "source": [
    "import torch\n",
    "\n",
    "# Check if GPU is available\n",
    "device = \"cuda\" if torch.cuda.is_available() else \"cpu\"\n",
    "print(f\"Using device: {device}\")\n"
   ]
  },
  {
   "cell_type": "code",
   "execution_count": null,
   "id": "163e5996-bab1-4ebc-a16e-913b95e99be7",
   "metadata": {},
   "outputs": [],
   "source": []
  }
 ],
 "metadata": {
  "kernelspec": {
   "display_name": "Python 3 (ipykernel)",
   "language": "python",
   "name": "python3"
  },
  "language_info": {
   "codemirror_mode": {
    "name": "ipython",
    "version": 3
   },
   "file_extension": ".py",
   "mimetype": "text/x-python",
   "name": "python",
   "nbconvert_exporter": "python",
   "pygments_lexer": "ipython3",
   "version": "3.7.16"
  }
 },
 "nbformat": 4,
 "nbformat_minor": 5
}
